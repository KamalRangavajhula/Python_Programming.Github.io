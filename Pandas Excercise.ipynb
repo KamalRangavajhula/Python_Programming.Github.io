{
 "cells": [
  {
   "cell_type": "code",
   "execution_count": 1,
   "metadata": {},
   "outputs": [],
   "source": [
    "import pandas as pd\n",
    "# Importing the pandas package and naming it as pd i.e. short form of notation"
   ]
  },
  {
   "cell_type": "code",
   "execution_count": 2,
   "metadata": {},
   "outputs": [],
   "source": [
    "blackfriday = pd.read_csv('C:/Users/kamalsaran/Desktop/bader/BlackFriday.csv')\n",
    "# Reading the blackfriday dataset using the pandas package"
   ]
  },
  {
   "cell_type": "code",
   "execution_count": 42,
   "metadata": {},
   "outputs": [
    {
     "data": {
      "text/html": [
       "<div>\n",
       "<style scoped>\n",
       "    .dataframe tbody tr th:only-of-type {\n",
       "        vertical-align: middle;\n",
       "    }\n",
       "\n",
       "    .dataframe tbody tr th {\n",
       "        vertical-align: top;\n",
       "    }\n",
       "\n",
       "    .dataframe thead th {\n",
       "        text-align: right;\n",
       "    }\n",
       "</style>\n",
       "<table border=\"1\" class=\"dataframe\">\n",
       "  <thead>\n",
       "    <tr style=\"text-align: right;\">\n",
       "      <th></th>\n",
       "      <th>User_ID</th>\n",
       "      <th>Product_ID</th>\n",
       "      <th>Gender</th>\n",
       "      <th>Age</th>\n",
       "      <th>Occupation</th>\n",
       "      <th>City_Category</th>\n",
       "      <th>Stay_In_Current_City_Years</th>\n",
       "      <th>Marital_Status</th>\n",
       "      <th>Product_Category_1</th>\n",
       "      <th>Product_Category_2</th>\n",
       "      <th>Product_Category_3</th>\n",
       "      <th>Purchase</th>\n",
       "    </tr>\n",
       "  </thead>\n",
       "  <tbody>\n",
       "    <tr>\n",
       "      <th>0</th>\n",
       "      <td>1000001</td>\n",
       "      <td>P00069042</td>\n",
       "      <td>F</td>\n",
       "      <td>0-17</td>\n",
       "      <td>10</td>\n",
       "      <td>A</td>\n",
       "      <td>2</td>\n",
       "      <td>0</td>\n",
       "      <td>3</td>\n",
       "      <td>NaN</td>\n",
       "      <td>NaN</td>\n",
       "      <td>8370</td>\n",
       "    </tr>\n",
       "    <tr>\n",
       "      <th>1</th>\n",
       "      <td>1000001</td>\n",
       "      <td>P00248942</td>\n",
       "      <td>F</td>\n",
       "      <td>0-17</td>\n",
       "      <td>10</td>\n",
       "      <td>A</td>\n",
       "      <td>2</td>\n",
       "      <td>0</td>\n",
       "      <td>1</td>\n",
       "      <td>6.0</td>\n",
       "      <td>14.0</td>\n",
       "      <td>15200</td>\n",
       "    </tr>\n",
       "    <tr>\n",
       "      <th>2</th>\n",
       "      <td>1000001</td>\n",
       "      <td>P00087842</td>\n",
       "      <td>F</td>\n",
       "      <td>0-17</td>\n",
       "      <td>10</td>\n",
       "      <td>A</td>\n",
       "      <td>2</td>\n",
       "      <td>0</td>\n",
       "      <td>12</td>\n",
       "      <td>NaN</td>\n",
       "      <td>NaN</td>\n",
       "      <td>1422</td>\n",
       "    </tr>\n",
       "    <tr>\n",
       "      <th>3</th>\n",
       "      <td>1000001</td>\n",
       "      <td>P00085442</td>\n",
       "      <td>F</td>\n",
       "      <td>0-17</td>\n",
       "      <td>10</td>\n",
       "      <td>A</td>\n",
       "      <td>2</td>\n",
       "      <td>0</td>\n",
       "      <td>12</td>\n",
       "      <td>14.0</td>\n",
       "      <td>NaN</td>\n",
       "      <td>1057</td>\n",
       "    </tr>\n",
       "    <tr>\n",
       "      <th>4</th>\n",
       "      <td>1000002</td>\n",
       "      <td>P00285442</td>\n",
       "      <td>M</td>\n",
       "      <td>55+</td>\n",
       "      <td>16</td>\n",
       "      <td>C</td>\n",
       "      <td>4+</td>\n",
       "      <td>0</td>\n",
       "      <td>8</td>\n",
       "      <td>NaN</td>\n",
       "      <td>NaN</td>\n",
       "      <td>7969</td>\n",
       "    </tr>\n",
       "  </tbody>\n",
       "</table>\n",
       "</div>"
      ],
      "text/plain": [
       "   User_ID Product_ID Gender   Age  Occupation City_Category  \\\n",
       "0  1000001  P00069042      F  0-17          10             A   \n",
       "1  1000001  P00248942      F  0-17          10             A   \n",
       "2  1000001  P00087842      F  0-17          10             A   \n",
       "3  1000001  P00085442      F  0-17          10             A   \n",
       "4  1000002  P00285442      M   55+          16             C   \n",
       "\n",
       "  Stay_In_Current_City_Years  Marital_Status  Product_Category_1  \\\n",
       "0                          2               0                   3   \n",
       "1                          2               0                   1   \n",
       "2                          2               0                  12   \n",
       "3                          2               0                  12   \n",
       "4                         4+               0                   8   \n",
       "\n",
       "   Product_Category_2  Product_Category_3  Purchase  \n",
       "0                 NaN                 NaN      8370  \n",
       "1                 6.0                14.0     15200  \n",
       "2                 NaN                 NaN      1422  \n",
       "3                14.0                 NaN      1057  \n",
       "4                 NaN                 NaN      7969  "
      ]
     },
     "execution_count": 42,
     "metadata": {},
     "output_type": "execute_result"
    }
   ],
   "source": [
    "blackfriday.head()\n",
    "# The head function prints out the first five rows of the dataset"
   ]
  },
  {
   "cell_type": "code",
   "execution_count": 4,
   "metadata": {},
   "outputs": [
    {
     "name": "stdout",
     "output_type": "stream",
     "text": [
      "<class 'pandas.core.frame.DataFrame'>\n",
      "RangeIndex: 537577 entries, 0 to 537576\n",
      "Data columns (total 12 columns):\n",
      "User_ID                       537577 non-null int64\n",
      "Product_ID                    537577 non-null object\n",
      "Gender                        537577 non-null object\n",
      "Age                           537577 non-null object\n",
      "Occupation                    537577 non-null int64\n",
      "City_Category                 537577 non-null object\n",
      "Stay_In_Current_City_Years    537577 non-null object\n",
      "Marital_Status                537577 non-null int64\n",
      "Product_Category_1            537577 non-null int64\n",
      "Product_Category_2            370591 non-null float64\n",
      "Product_Category_3            164278 non-null float64\n",
      "Purchase                      537577 non-null int64\n",
      "dtypes: float64(2), int64(5), object(5)\n",
      "memory usage: 49.2+ MB\n"
     ]
    }
   ],
   "source": [
    "blackfriday.info()\n",
    "# The info function gives the detail about the data type of each column"
   ]
  },
  {
   "cell_type": "code",
   "execution_count": 6,
   "metadata": {},
   "outputs": [
    {
     "data": {
      "text/plain": [
       "9333.859852635065"
      ]
     },
     "execution_count": 6,
     "metadata": {},
     "output_type": "execute_result"
    }
   ],
   "source": [
    "blackfriday['Purchase'].mean()\n",
    "# Gives the mean value of the purchase attribute i.e. column of the blackfriday"
   ]
  },
  {
   "cell_type": "code",
   "execution_count": 7,
   "metadata": {},
   "outputs": [
    {
     "data": {
      "text/plain": [
       "23961"
      ]
     },
     "execution_count": 7,
     "metadata": {},
     "output_type": "execute_result"
    }
   ],
   "source": [
    "blackfriday['Purchase'].max()\n",
    "# Maximum value of the purchase column in the blackfriday"
   ]
  },
  {
   "cell_type": "code",
   "execution_count": 8,
   "metadata": {},
   "outputs": [
    {
     "data": {
      "text/plain": [
       "185"
      ]
     },
     "execution_count": 8,
     "metadata": {},
     "output_type": "execute_result"
    }
   ],
   "source": [
    "blackfriday['Purchase'].min()\n",
    "# Minimum value of the purchase column in the blackfriday"
   ]
  },
  {
   "cell_type": "code",
   "execution_count": 10,
   "metadata": {},
   "outputs": [
    {
     "data": {
      "text/plain": [
       "User_ID                       317817\n",
       "Product_ID                    317817\n",
       "Gender                        317817\n",
       "Age                           317817\n",
       "Occupation                    317817\n",
       "City_Category                 317817\n",
       "Stay_In_Current_City_Years    317817\n",
       "Marital_Status                317817\n",
       "Product_Category_1            317817\n",
       "Product_Category_2            220325\n",
       "Product_Category_3             98202\n",
       "Purchase                      317817\n",
       "dtype: int64"
      ]
     },
     "execution_count": 10,
     "metadata": {},
     "output_type": "execute_result"
    }
   ],
   "source": [
    "blackfriday[blackfriday['Marital_Status'] == 0].count()\n",
    "# Outputs the count values of the Marital Status column which has the value equal to zero"
   ]
  },
  {
   "cell_type": "code",
   "execution_count": 11,
   "metadata": {},
   "outputs": [
    {
     "data": {
      "text/plain": [
       "User_ID                       144638\n",
       "Product_ID                    144638\n",
       "Gender                        144638\n",
       "Age                           144638\n",
       "Occupation                    144638\n",
       "City_Category                 144638\n",
       "Stay_In_Current_City_Years    144638\n",
       "Marital_Status                144638\n",
       "Product_Category_1            144638\n",
       "Product_Category_2             96755\n",
       "Product_Category_3             40848\n",
       "Purchase                      144638\n",
       "dtype: int64"
      ]
     },
     "execution_count": 11,
     "metadata": {},
     "output_type": "execute_result"
    }
   ],
   "source": [
    "blackfriday[blackfriday['City_Category']=='A'].count()\n",
    "# Returns the number of columns which have City Category value of 'A'"
   ]
  },
  {
   "cell_type": "code",
   "execution_count": 17,
   "metadata": {},
   "outputs": [
    {
     "name": "stdout",
     "output_type": "stream",
     "text": [
      "<class 'pandas.core.frame.DataFrame'>\n",
      "Int64Index: 166446 entries, 4 to 537576\n",
      "Data columns (total 12 columns):\n",
      "User_ID                       166446 non-null int64\n",
      "Product_ID                    166446 non-null object\n",
      "Gender                        166446 non-null object\n",
      "Age                           166446 non-null object\n",
      "Occupation                    166446 non-null int64\n",
      "City_Category                 166446 non-null object\n",
      "Stay_In_Current_City_Years    166446 non-null object\n",
      "Marital_Status                166446 non-null int64\n",
      "Product_Category_1            166446 non-null int64\n",
      "Product_Category_2            118588 non-null float64\n",
      "Product_Category_3            55245 non-null float64\n",
      "Purchase                      166446 non-null int64\n",
      "dtypes: float64(2), int64(5), object(5)\n",
      "memory usage: 16.5+ MB\n"
     ]
    }
   ],
   "source": [
    "blackfriday[blackfriday['City_Category']=='C'].info()"
   ]
  },
  {
   "cell_type": "code",
   "execution_count": 19,
   "metadata": {},
   "outputs": [
    {
     "data": {
      "text/plain": [
       "B    226493\n",
       "C    166446\n",
       "A    144638\n",
       "Name: City_Category, dtype: int64"
      ]
     },
     "execution_count": 19,
     "metadata": {},
     "output_type": "execute_result"
    }
   ],
   "source": [
    "blackfriday['City_Category'].value_counts()\n",
    "# The number of rows having the different City Category values"
   ]
  },
  {
   "cell_type": "code",
   "execution_count": 22,
   "metadata": {},
   "outputs": [
    {
     "data": {
      "text/plain": [
       "1     189192\n",
       "2      99459\n",
       "3      93312\n",
       "4+     82889\n",
       "0      72725\n",
       "Name: Stay_In_Current_City_Years, dtype: int64"
      ]
     },
     "execution_count": 22,
     "metadata": {},
     "output_type": "execute_result"
    }
   ],
   "source": [
    "blackfriday['Stay_In_Current_City_Years'].value_counts().head(5)\n",
    "# Outputs the first five categories of the Stay In Current City Years columns"
   ]
  },
  {
   "cell_type": "code",
   "execution_count": 29,
   "metadata": {},
   "outputs": [
    {
     "data": {
      "text/plain": [
       "343       26-35\n",
       "375       36-45\n",
       "736       26-35\n",
       "1445      26-35\n",
       "3167      51-55\n",
       "3172      18-25\n",
       "3630      26-35\n",
       "5059       0-17\n",
       "5493      46-50\n",
       "5494      46-50\n",
       "5620      46-50\n",
       "5907      36-45\n",
       "6543      26-35\n",
       "6585      51-55\n",
       "6911      36-45\n",
       "7145      26-35\n",
       "7201      18-25\n",
       "7542        55+\n",
       "7675      36-45\n",
       "7948      18-25\n",
       "8648      36-45\n",
       "8784      36-45\n",
       "9201      18-25\n",
       "10016     46-50\n",
       "10155     26-35\n",
       "10738     46-50\n",
       "11931     26-35\n",
       "12428     26-35\n",
       "13013     26-35\n",
       "13950     18-25\n",
       "          ...  \n",
       "519423    18-25\n",
       "519451    26-35\n",
       "519825      55+\n",
       "520499      55+\n",
       "521341    46-50\n",
       "521895      55+\n",
       "521974    36-45\n",
       "522029    36-45\n",
       "522584    46-50\n",
       "522798      55+\n",
       "522931    46-50\n",
       "524817    36-45\n",
       "525057    26-35\n",
       "525565    26-35\n",
       "525885    46-50\n",
       "526271    26-35\n",
       "526317    26-35\n",
       "526850    36-45\n",
       "526951    36-45\n",
       "528371    51-55\n",
       "528391    26-35\n",
       "528639    51-55\n",
       "529204    36-45\n",
       "532053    36-45\n",
       "533751    46-50\n",
       "534306    36-45\n",
       "534362    36-45\n",
       "535045    18-25\n",
       "535167    26-35\n",
       "536807    46-50\n",
       "Name: Age, Length: 1358, dtype: object"
      ]
     },
     "execution_count": 29,
     "metadata": {},
     "output_type": "execute_result"
    }
   ],
   "source": [
    "blackfriday[blackfriday['Purchase'] > 23400]['Age']"
   ]
  },
  {
   "cell_type": "code",
   "execution_count": 33,
   "metadata": {},
   "outputs": [
    {
     "data": {
      "text/plain": [
       "User_ID                       34807\n",
       "Product_ID                    34807\n",
       "Gender                        34807\n",
       "Age                           34807\n",
       "Occupation                    34807\n",
       "City_Category                 34807\n",
       "Stay_In_Current_City_Years    34807\n",
       "Marital_Status                34807\n",
       "Product_Category_1            34807\n",
       "Product_Category_2            23026\n",
       "Product_Category_3             8998\n",
       "Purchase                      34807\n",
       "dtype: int64"
      ]
     },
     "execution_count": 33,
     "metadata": {},
     "output_type": "execute_result"
    }
   ],
   "source": [
    "blackfriday[(blackfriday['City_Category']=='A')&(blackfriday['Gender']== 'F')].count()\n",
    "# Outputs the value counts which have the City Category value of A and Gender value of F"
   ]
  },
  {
   "cell_type": "code",
   "execution_count": 40,
   "metadata": {},
   "outputs": [
    {
     "data": {
      "text/plain": [
       "0          0.0\n",
       "1          6.0\n",
       "2          0.0\n",
       "3         14.0\n",
       "4          0.0\n",
       "5          2.0\n",
       "6          8.0\n",
       "7         15.0\n",
       "8         16.0\n",
       "9          0.0\n",
       "10        11.0\n",
       "11         0.0\n",
       "12         0.0\n",
       "13         2.0\n",
       "14         8.0\n",
       "15         5.0\n",
       "16         3.0\n",
       "17        14.0\n",
       "18        14.0\n",
       "19         5.0\n",
       "20        14.0\n",
       "21         0.0\n",
       "22         0.0\n",
       "23         0.0\n",
       "24         8.0\n",
       "25         8.0\n",
       "26         0.0\n",
       "27        14.0\n",
       "28         8.0\n",
       "29         4.0\n",
       "          ... \n",
       "537547     2.0\n",
       "537548     0.0\n",
       "537549     8.0\n",
       "537550     0.0\n",
       "537551     6.0\n",
       "537552     8.0\n",
       "537553    13.0\n",
       "537554    14.0\n",
       "537555    16.0\n",
       "537556    14.0\n",
       "537557     0.0\n",
       "537558    17.0\n",
       "537559    17.0\n",
       "537560    16.0\n",
       "537561    16.0\n",
       "537562    13.0\n",
       "537563     0.0\n",
       "537564    14.0\n",
       "537565     0.0\n",
       "537566     0.0\n",
       "537567    14.0\n",
       "537568     0.0\n",
       "537569    14.0\n",
       "537570    16.0\n",
       "537571     2.0\n",
       "537572     2.0\n",
       "537573    15.0\n",
       "537574    15.0\n",
       "537575     0.0\n",
       "537576     8.0\n",
       "Name: Product_Category_2, Length: 537577, dtype: float64"
      ]
     },
     "execution_count": 40,
     "metadata": {},
     "output_type": "execute_result"
    }
   ],
   "source": [
    "blackfriday['Product_Category_2'].fillna(value = 0.0 )\n",
    "# Fills in the empty values of the Product category_2 with 0.0 value"
   ]
  },
  {
   "cell_type": "code",
   "execution_count": 41,
   "metadata": {},
   "outputs": [
    {
     "data": {
      "text/plain": [
       "0          9.842144\n",
       "1         14.000000\n",
       "2          9.842144\n",
       "3          9.842144\n",
       "4          9.842144\n",
       "5          9.842144\n",
       "6         17.000000\n",
       "7          9.842144\n",
       "8          9.842144\n",
       "9          9.842144\n",
       "10         9.842144\n",
       "11         9.842144\n",
       "12         9.842144\n",
       "13         5.000000\n",
       "14        14.000000\n",
       "15         9.842144\n",
       "16         4.000000\n",
       "17         9.842144\n",
       "18        16.000000\n",
       "19        15.000000\n",
       "20         9.842144\n",
       "21         9.842144\n",
       "22         9.842144\n",
       "23         9.842144\n",
       "24        14.000000\n",
       "25         9.842144\n",
       "26         9.842144\n",
       "27         9.842144\n",
       "28        14.000000\n",
       "29         8.000000\n",
       "            ...    \n",
       "537547    15.000000\n",
       "537548     9.842144\n",
       "537549    14.000000\n",
       "537550     9.842144\n",
       "537551     8.000000\n",
       "537552     9.842144\n",
       "537553     9.842144\n",
       "537554     9.842144\n",
       "537555     9.842144\n",
       "537556     9.842144\n",
       "537557     9.842144\n",
       "537558     9.842144\n",
       "537559     9.842144\n",
       "537560     9.842144\n",
       "537561     9.842144\n",
       "537562    14.000000\n",
       "537563     9.842144\n",
       "537564     9.842144\n",
       "537565     9.842144\n",
       "537566     9.842144\n",
       "537567     9.842144\n",
       "537568     9.842144\n",
       "537569     9.842144\n",
       "537570     9.842144\n",
       "537571     5.000000\n",
       "537572     9.842144\n",
       "537573    16.000000\n",
       "537574     9.842144\n",
       "537575     9.842144\n",
       "537576     9.842144\n",
       "Name: Product_Category_3, Length: 537577, dtype: float64"
      ]
     },
     "execution_count": 41,
     "metadata": {},
     "output_type": "execute_result"
    }
   ],
   "source": [
    "blackfriday['Product_Category_3'].fillna(value = blackfriday['Product_Category_2'].mean())\n",
    "# Replaces the empty values with the mean value of the Product Category_3 "
   ]
  },
  {
   "cell_type": "code",
   "execution_count": null,
   "metadata": {},
   "outputs": [],
   "source": []
  }
 ],
 "metadata": {
  "kernelspec": {
   "display_name": "Python 3",
   "language": "python",
   "name": "python3"
  },
  "language_info": {
   "codemirror_mode": {
    "name": "ipython",
    "version": 3
   },
   "file_extension": ".py",
   "mimetype": "text/x-python",
   "name": "python",
   "nbconvert_exporter": "python",
   "pygments_lexer": "ipython3",
   "version": "3.7.0"
  }
 },
 "nbformat": 4,
 "nbformat_minor": 2
}
